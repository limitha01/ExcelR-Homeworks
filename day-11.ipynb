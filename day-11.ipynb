{
 "cells": [
  {
   "cell_type": "code",
   "execution_count": 3,
   "id": "e163e8ad-da50-4067-ae27-fecbfc950c3d",
   "metadata": {},
   "outputs": [
    {
     "name": "stdout",
     "output_type": "stream",
     "text": [
      "   Account_Balance  Transaction_Amount Branch\n",
      "5             7000                 200      B\n",
      "3             5000                 100      B\n",
      "9             3200                 350      B\n",
      "4             3000                 600      A\n",
      "6             2500                 150      A\n",
      "1             2000                 450      B\n",
      "7             1800                 700      B\n",
      "2             1500                 300      A\n",
      "8             1200                 250      A\n",
      "0             1000                 200      A\n",
      "   Account_Balance  Transaction_Amount Branch  Transaction_Rank\n",
      "0             1000                 200      A               4.0\n",
      "1             2000                 450      B               2.0\n",
      "2             1500                 300      A               2.0\n",
      "3             5000                 100      B               5.0\n",
      "4             3000                 600      A               1.0\n",
      "5             7000                 200      B               4.0\n",
      "6             2500                 150      A               5.0\n",
      "7             1800                 700      B               1.0\n",
      "8             1200                 250      A               3.0\n",
      "9             3200                 350      B               3.0\n"
     ]
    }
   ],
   "source": [
    "import pandas as pd\n",
    "\n",
    "# Sample DataFrame (replace this with loading your actual dataset)\n",
    "data = pd.DataFrame({\n",
    "    'Account_Balance': [1000, 2000, 1500, 5000, 3000, 7000, 2500, 1800, 1200, 3200],\n",
    "    'Transaction_Amount': [200, 450, 300, 100, 600, 200, 150, 700, 250, 350],\n",
    "    'Branch': ['A', 'B', 'A', 'B', 'A', 'B', 'A', 'B', 'A', 'B']\n",
    "})\n",
    "\n",
    "# Sort the dataset by Account_Balance in descending order and display the first 10 rows\n",
    "data_sorted = data.sort_values(by='Account_Balance', ascending=False)\n",
    "print(data_sorted.head(10))\n",
    "\n",
    "# Create a ranking column for Transaction_Amount within each Branch\n",
    "data['Transaction_Rank'] = data.groupby('Branch')['Transaction_Amount'].rank(ascending=False)\n",
    "\n",
    "# Display the final DataFrame with ranks\n",
    "print(data)\n"
   ]
  },
  {
   "cell_type": "code",
   "execution_count": null,
   "id": "d59c4f56-836d-49ea-983f-d10f070ab47e",
   "metadata": {},
   "outputs": [],
   "source": []
  }
 ],
 "metadata": {
  "kernelspec": {
   "display_name": "Python [conda env:base] *",
   "language": "python",
   "name": "conda-base-py"
  },
  "language_info": {
   "codemirror_mode": {
    "name": "ipython",
    "version": 3
   },
   "file_extension": ".py",
   "mimetype": "text/x-python",
   "name": "python",
   "nbconvert_exporter": "python",
   "pygments_lexer": "ipython3",
   "version": "3.12.7"
  }
 },
 "nbformat": 4,
 "nbformat_minor": 5
}
