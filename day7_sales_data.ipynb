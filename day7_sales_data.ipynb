{
 "cells": [
  {
   "cell_type": "code",
   "execution_count": 1,
   "id": "51772bf5-0f35-4af8-bd62-070facfca52a",
   "metadata": {},
   "outputs": [
    {
     "name": "stdout",
     "output_type": "stream",
     "text": [
      "Sample file created: sales_data.csv\n",
      "First 5 rows of the dataset:\n",
      "  Region Product  Quantity  Sales  Profit\n",
      "0   East       A       100   1000     200\n",
      "1   West       B       150   1500     300\n",
      "2  North       C       200   2000     400\n",
      "3  South       D       250   2500     500\n",
      "\n",
      "Basic statistics:\n",
      "         Quantity        Sales      Profit\n",
      "count    4.000000     4.000000    4.000000\n",
      "mean   175.000000  1750.000000  350.000000\n",
      "std     64.549722   645.497224  129.099445\n",
      "min    100.000000  1000.000000  200.000000\n",
      "25%    137.500000  1375.000000  275.000000\n",
      "50%    175.000000  1750.000000  350.000000\n",
      "75%    212.500000  2125.000000  425.000000\n",
      "max    250.000000  2500.000000  500.000000\n",
      "\n",
      "Total sales for each region:\n",
      "Region\n",
      "East     1000\n",
      "North    2000\n",
      "South    2500\n",
      "West     1500\n",
      "Name: Sales, dtype: int64\n",
      "\n",
      "Most sold product: D\n"
     ]
    }
   ],
   "source": [
    "import pandas as pd\n",
    "import os\n",
    "\n",
    "# Check if the sales_data.csv file exists\n",
    "file_path = 'sales_data.csv'\n",
    "\n",
    "if not os.path.exists(file_path):\n",
    "    # Create a sample dataset\n",
    "    sample_data = {\n",
    "        'Region': ['East', 'West', 'North', 'South'],\n",
    "        'Product': ['A', 'B', 'C', 'D'],\n",
    "        'Quantity': [100, 150, 200, 250],\n",
    "        'Sales': [1000, 1500, 2000, 2500],\n",
    "        'Profit': [200, 300, 400, 500],\n",
    "    }\n",
    "    sales_data = pd.DataFrame(sample_data)\n",
    "    # Save the sample dataset to a CSV file\n",
    "    sales_data.to_csv(file_path, index=False)\n",
    "    print(f\"Sample file created: {file_path}\")\n",
    "else:\n",
    "    print(f\"Loading existing file: {file_path}\")\n",
    "\n",
    "# Load the sales_data.csv file using Pandas\n",
    "sales_data = pd.read_csv(file_path)\n",
    "\n",
    "# Display the first 5 rows of the dataset\n",
    "print(\"First 5 rows of the dataset:\")\n",
    "print(sales_data.head())\n",
    "\n",
    "# Print basic statistics of the numerical columns\n",
    "print(\"\\nBasic statistics:\")\n",
    "print(sales_data.describe())\n",
    "\n",
    "# Data Analysis\n",
    "# Calculate the total sales for each region\n",
    "total_sales_by_region = sales_data.groupby('Region')['Sales'].sum()\n",
    "print(\"\\nTotal sales for each region:\")\n",
    "print(total_sales_by_region)\n",
    "\n",
    "# Find the most sold product (based on quantity)\n",
    "most_sold_product = sales_data.groupby('Product')['Quantity'].sum().idxmax()\n",
    "print(f\"\\nMost sold product: {most_sold_product}\")\n",
    "\n",
    "# Compute the ave\n"
   ]
  },
  {
   "cell_type": "code",
   "execution_count": null,
   "id": "68041276-0fa4-47e9-9738-f628f40f9f2e",
   "metadata": {},
   "outputs": [],
   "source": []
  }
 ],
 "metadata": {
  "kernelspec": {
   "display_name": "Python [conda env:base] *",
   "language": "python",
   "name": "conda-base-py"
  },
  "language_info": {
   "codemirror_mode": {
    "name": "ipython",
    "version": 3
   },
   "file_extension": ".py",
   "mimetype": "text/x-python",
   "name": "python",
   "nbconvert_exporter": "python",
   "pygments_lexer": "ipython3",
   "version": "3.12.7"
  }
 },
 "nbformat": 4,
 "nbformat_minor": 5
}
