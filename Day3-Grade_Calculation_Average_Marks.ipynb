{
 "cells": [
  {
   "cell_type": "code",
   "execution_count": 1,
   "id": "3b86a734",
   "metadata": {},
   "outputs": [
    {
     "name": "stdout",
     "output_type": "stream",
     "text": [
      "Enter marks for subject 1: 95\n",
      "Enter marks for subject 2: 85\n",
      "Enter marks for subject 3: 91\n",
      "Grade: A\n"
     ]
    }
   ],
   "source": [
    "# Take input for three subjects\n",
    "marks1 = float(input(\"Enter marks for subject 1: \"))\n",
    "marks2 = float(input(\"Enter marks for subject 2: \"))\n",
    "marks3 = float(input(\"Enter marks for subject 3: \"))\n",
    "\n",
    "# Calculate average marks\n",
    "average = (marks1 + marks2 + marks3) / 3\n",
    "\n",
    "# Determine the grade based on average\n",
    "if average >= 90:\n",
    "    print(\"Grade: A\")\n",
    "elif 80 <= average < 90:\n",
    "    print(\"Grade: B\")\n",
    "elif 70 <= average < 80:\n",
    "    print(\"Grade: C\")\n",
    "else:\n",
    "    print(\"Grade: Fail\")\n"
   ]
  },
  {
   "cell_type": "code",
   "execution_count": null,
   "id": "ffc0c80e",
   "metadata": {},
   "outputs": [],
   "source": []
  }
 ],
 "metadata": {
  "kernelspec": {
   "display_name": "Python 3 (ipykernel)",
   "language": "python",
   "name": "python3"
  },
  "language_info": {
   "codemirror_mode": {
    "name": "ipython",
    "version": 3
   },
   "file_extension": ".py",
   "mimetype": "text/x-python",
   "name": "python",
   "nbconvert_exporter": "python",
   "pygments_lexer": "ipython3",
   "version": "3.11.5"
  }
 },
 "nbformat": 4,
 "nbformat_minor": 5
}
