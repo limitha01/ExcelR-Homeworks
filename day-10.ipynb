{
 "cells": [
  {
   "cell_type": "code",
   "execution_count": 9,
   "id": "cc960e20-e46f-48cb-9450-89388c8b47cc",
   "metadata": {},
   "outputs": [
    {
     "name": "stdout",
     "output_type": "stream",
     "text": [
      "Filtered Data 1 (Transaction_Amount > 2000):\n",
      "    Transaction_Amount Transaction_Type  Account_Balance    Branch\n",
      "1                2500     Loan Payment             8000  Downtown\n",
      "2                3000     Loan Payment            10000    Uptown\n",
      "4                6000          Deposit             7000    Uptown\n",
      "Filtered Data 2 (Loan Payment and Account_Balance > 5000):\n",
      "    Transaction_Amount Transaction_Type  Account_Balance    Branch\n",
      "1                2500     Loan Payment             8000  Downtown\n",
      "2                3000     Loan Payment            10000    Uptown\n",
      "Filtered Data 3 (Transactions in Uptown branch):\n",
      "    Transaction_Amount Transaction_Type  Account_Balance  Branch\n",
      "0                1500          Deposit             4000  Uptown\n",
      "2                3000     Loan Payment            10000  Uptown\n",
      "4                6000          Deposit             7000  Uptown\n"
     ]
    }
   ],
   "source": [
    "import pandas as pd\n",
    "\n",
    "# Sample DataFrame for Assignment 1\n",
    "data1 = {\n",
    "    'Transaction_Amount': [1500, 2500, 3000, 1200, 6000],\n",
    "    'Transaction_Type': ['Deposit', 'Loan Payment', 'Loan Payment', 'Withdrawal', 'Deposit'],\n",
    "    'Account_Balance': [4000, 8000, 10000, 3000, 7000],\n",
    "    'Branch': ['Uptown', 'Downtown', 'Uptown', 'Downtown', 'Uptown']\n",
    "}\n",
    "\n",
    "df1 = pd.DataFrame(data1)\n",
    "\n",
    "# Task 1: Filter rows where Transaction_Amount > 2000\n",
    "filtered_data_1 = df1[df1['Transaction_Amount'] > 2000]\n",
    "\n",
    "# Task 2: Filter rows where Transaction_Type is 'Loan Payment' and Account_Balance > 5000\n",
    "filtered_data_2 = df1[(df1['Transaction_Type'] == 'Loan Payment') & (df1['Account_Balance'] > 5000)]\n",
    "\n",
    "# Task 3: Extract transactions made in the 'Uptown' branch\n",
    "filtered_data_3 = df1[df1['Branch'] == 'Uptown']\n",
    "\n",
    "# Output the results for Assignment 1\n",
    "print(\"Filtered Data 1 (Transaction_Amount > 2000):\\n\", filtered_data_1)\n",
    "print(\"Filtered Data 2 (Loan Payment and Account_Balance > 5000):\\n\", filtered_data_2)\n",
    "print(\"Filtered Data 3 (Transactions in Uptown branch):\\n\", filtered_data_3)\n"
   ]
  },
  {
   "cell_type": "code",
   "execution_count": 11,
   "id": "cf093d89-617c-4801-b587-37636baa1609",
   "metadata": {},
   "outputs": [
    {
     "name": "stdout",
     "output_type": "stream",
     "text": [
      "Data with Transaction_Fee and Balance_Status:\n",
      "    Transaction_Amount Transaction_Type  Account_Balance    Branch  \\\n",
      "0                1800     Loan Payment             5500    Uptown   \n",
      "1                2200          Deposit             7000  Downtown   \n",
      "2                3400       Withdrawal             8000    Uptown   \n",
      "3                1500          Deposit             3000  Downtown   \n",
      "4                5000     Loan Payment             9500    Uptown   \n",
      "\n",
      "   Transaction_Fee Balance_Status  \n",
      "0             36.0   High Balance  \n",
      "1             44.0   High Balance  \n",
      "2             68.0   High Balance  \n",
      "3             30.0    Low Balance  \n",
      "4            100.0   High Balance  \n"
     ]
    }
   ],
   "source": [
    "# Sample DataFrame for Assignment 2\n",
    "data2 = {\n",
    "    'Transaction_Amount': [1800, 2200, 3400, 1500, 5000],\n",
    "    'Transaction_Type': ['Loan Payment', 'Deposit', 'Withdrawal', 'Deposit', 'Loan Payment'],\n",
    "    'Account_Balance': [5500, 7000, 8000, 3000, 9500],\n",
    "    'Branch': ['Uptown', 'Downtown', 'Uptown', 'Downtown', 'Uptown']\n",
    "}\n",
    "\n",
    "df2 = pd.DataFrame(data2)\n",
    "\n",
    "# Task 1: Add a new column Transaction_Fee as 2% of Transaction_Amount\n",
    "df2['Transaction_Fee'] = df2['Transaction_Amount'] * 0.02\n",
    "\n",
    "# Task 2: Create a new column Balance_Status based on Account_Balance\n",
    "df2['Balance_Status'] = df2['Account_Balance'].apply(lambda x: 'High Balance' if x > 5000 else 'Low Balance')\n",
    "\n",
    "# Output the results for Assignment 2\n",
    "print(\"Data with Transaction_Fee and Balance_Status:\\n\", df2)\n"
   ]
  },
  {
   "cell_type": "code",
   "execution_count": null,
   "id": "0fbf047b-b186-45b3-aed7-a32f7b770ac7",
   "metadata": {},
   "outputs": [],
   "source": []
  }
 ],
 "metadata": {
  "kernelspec": {
   "display_name": "Python [conda env:base] *",
   "language": "python",
   "name": "conda-base-py"
  },
  "language_info": {
   "codemirror_mode": {
    "name": "ipython",
    "version": 3
   },
   "file_extension": ".py",
   "mimetype": "text/x-python",
   "name": "python",
   "nbconvert_exporter": "python",
   "pygments_lexer": "ipython3",
   "version": "3.12.7"
  }
 },
 "nbformat": 4,
 "nbformat_minor": 5
}
