{
 "cells": [
  {
   "cell_type": "code",
   "execution_count": 1,
   "id": "65da1438",
   "metadata": {},
   "outputs": [
    {
     "name": "stdout",
     "output_type": "stream",
     "text": [
      "79\n",
      "8.5\n",
      "Limitha\n",
      "True\n"
     ]
    }
   ],
   "source": [
    "# Declare variables\n",
    "integer_var = 79\n",
    "float_var = 8.5\n",
    "string_var = \"Limitha\"\n",
    "boolean_var = True\n",
    "\n",
    "# Print variable values\n",
    "print(integer_var)\n",
    "print(float_var)\n",
    "print(string_var)\n",
    "print(boolean_var)\n"
   ]
  },
  {
   "cell_type": "code",
   "execution_count": null,
   "id": "557b57a2",
   "metadata": {},
   "outputs": [],
   "source": []
  }
 ],
 "metadata": {
  "kernelspec": {
   "display_name": "Python 3 (ipykernel)",
   "language": "python",
   "name": "python3"
  },
  "language_info": {
   "codemirror_mode": {
    "name": "ipython",
    "version": 3
   },
   "file_extension": ".py",
   "mimetype": "text/x-python",
   "name": "python",
   "nbconvert_exporter": "python",
   "pygments_lexer": "ipython3",
   "version": "3.11.5"
  }
 },
 "nbformat": 4,
 "nbformat_minor": 5
}
