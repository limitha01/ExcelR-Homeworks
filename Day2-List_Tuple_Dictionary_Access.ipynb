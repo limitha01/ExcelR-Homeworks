{
 "cells": [
  {
   "cell_type": "code",
   "execution_count": 1,
   "id": "35653969",
   "metadata": {},
   "outputs": [
    {
     "name": "stdout",
     "output_type": "stream",
     "text": [
      "20\n",
      "Virat\n",
      "Hyderabad\n"
     ]
    }
   ],
   "source": [
    "# List Example\n",
    "my_list = [10, 20, 30, 40, 50]\n",
    "print(my_list[1])  \n",
    "# Tuple Example\n",
    "\n",
    "my_tuple = (\"Rohit\", \"Nithish\", \"Dhoni\", \"Virat\", \"Hardik\")\n",
    "print(my_tuple[3]) \n",
    "\n",
    "# Dictionary Example\n",
    "my_dict = {\"name\": \"Limmi\", \"age\": 19, \"city\": \"Hyderabad\"}\n",
    "print(my_dict[\"city\"])  \n"
   ]
  },
  {
   "cell_type": "code",
   "execution_count": null,
   "id": "55abf4a8",
   "metadata": {},
   "outputs": [],
   "source": []
  }
 ],
 "metadata": {
  "kernelspec": {
   "display_name": "Python 3 (ipykernel)",
   "language": "python",
   "name": "python3"
  },
  "language_info": {
   "codemirror_mode": {
    "name": "ipython",
    "version": 3
   },
   "file_extension": ".py",
   "mimetype": "text/x-python",
   "name": "python",
   "nbconvert_exporter": "python",
   "pygments_lexer": "ipython3",
   "version": "3.11.5"
  }
 },
 "nbformat": 4,
 "nbformat_minor": 5
}
